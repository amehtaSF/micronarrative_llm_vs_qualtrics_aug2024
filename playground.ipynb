{
 "cells": [
  {
   "cell_type": "code",
   "execution_count": 2,
   "metadata": {},
   "outputs": [],
   "source": [
    "import boto3"
   ]
  },
  {
   "cell_type": "code",
   "execution_count": 5,
   "metadata": {},
   "outputs": [
    {
     "name": "stdout",
     "output_type": "stream",
     "text": [
      "{'final_scenario': '', 'thumb_2_text': '', 'scenario_choice': '', 'thumb_3': '', 'editing_chat': [], 'thumb_2': '', 'thumb_1': '', 'scenario_rating': '', 'chat_id': 'testkey', 'interview_chat': [], 'thumb_1_text': '', 'scenario_1': 'hello', 'thumb_3_text': '', 'scenario_3': '', 'scenario_2': ''}\n",
      "{'final_scenario': '', 'thumb_2_text': '', 'scenario_choice': '', 'thumb_3': '', 'editing_chat': [], 'thumb_2': '', 'thumb_1': '', 'scenario_rating': '', 'chat_id': 'testkey2', 'interview_chat': [], 'thumb_1_text': '', 'scenario_1': 'hello', 'thumb_3_text': '', 'scenario_3': '', 'scenario_2': ''}\n",
      "{'final_scenario': '', 'thumb_2_text': '', 'scenario_choice': '', 'thumb_3': '', 'editing_chat': [], 'thumb_2': '', 'thumb_1': '', 'scenario_rating': '', 'chat_id': 'NA-20240820153009', 'prolific_id': '', 'interview_chat': [], 'thumb_1_text': '', 'scenario_1': 'hello', 'thumb_3_text': '', 'conversation_state': '', 'scenario_3': '', 'scenario_2': ''}\n",
      "{'final_scenario': '', 'thumb_2_text': '', 'scenario_choice': '', 'thumb_3': '', 'editing_chat': [], 'thumb_2': '', 'thumb_1': '', 'scenario_rating': '', 'chat_id': 'testkey3', 'interview_chat': [], 'thumb_1_text': '', 'scenario_1': 'hello', 'thumb_3_text': '', 'scenario_3': '', 'scenario_2': ''}\n",
      "{'final_scenario': '', 'thumb_2_text': '', 'scenario_choice': '', 'editing_chat': [], 'thumb_3': '', 'thumb_2': '', 'scenario_rating': '', 'thumb_1': '', 'chat_id': '132-20240820153159', 'prolific_id': '132', 'interview_chat': [], 'thumb_1_text': '', 'scenario_1': 'hello', 'thumb_3_text': '', 'conversation_state': '', 'scenario_3': '', 'scenario_2': ''}\n",
      "{'final_scenario': '', 'thumb_2_text': '', 'scenario_choice': '', 'thumb_3': '', 'editing_chat': [], 'thumb_2': '', 'thumb_1': '', 'scenario_rating': '', 'chat_id': '1234-20240820153026', 'prolific_id': '', 'interview_chat': [], 'thumb_1_text': '', 'scenario_1': 'hello', 'thumb_3_text': '', 'conversation_state': '', 'scenario_3': '', 'scenario_2': ''}\n",
      "{'final_scenario': '', 'thumb_2_text': '', 'scenario_choice': '', 'thumb_3': '', 'editing_chat': [], 'thumb_2': '', 'thumb_1': '', 'scenario_rating': '', 'chat_id': 'NA-20240820152839', 'prolific_id': '', 'interview_chat': [], 'thumb_1_text': '', 'scenario_1': 'hello', 'thumb_3_text': '', 'conversation_state': '', 'scenario_3': '', 'scenario_2': ''}\n",
      "{'final_scenario': '', 'thumb_2_text': '', 'scenario_choice': '', 'thumb_3': '', 'editing_chat': [], 'thumb_2': '', 'thumb_1': '', 'scenario_rating': '', 'chat_id': '1234-20240820153157', 'prolific_id': '', 'interview_chat': [], 'thumb_1_text': '', 'scenario_1': 'hello', 'thumb_3_text': '', 'conversation_state': '', 'scenario_3': '', 'scenario_2': ''}\n"
     ]
    }
   ],
   "source": [
    "\n",
    "\n",
    "# Initialize DynamoDB resource\n",
    "dynamodb = boto3.resource('dynamodb')\n",
    "\n",
    "# Specify the table\n",
    "table = dynamodb.Table('micronarrative_bot')\n",
    "\n",
    "# Perform a scan to get all items\n",
    "response = table.scan()\n",
    "\n",
    "# Get the list of items\n",
    "items = response['Items']\n",
    "\n",
    "# Print all items\n",
    "for item in items:\n",
    "    print(item)"
   ]
  }
 ],
 "metadata": {
  "kernelspec": {
   "display_name": "venv",
   "language": "python",
   "name": "python3"
  },
  "language_info": {
   "codemirror_mode": {
    "name": "ipython",
    "version": 3
   },
   "file_extension": ".py",
   "mimetype": "text/x-python",
   "name": "python",
   "nbconvert_exporter": "python",
   "pygments_lexer": "ipython3",
   "version": "3.9.6"
  }
 },
 "nbformat": 4,
 "nbformat_minor": 2
}
